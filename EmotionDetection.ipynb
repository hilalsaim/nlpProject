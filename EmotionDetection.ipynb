{
 "cells": [
  {
   "cell_type": "code",
   "execution_count": 2,
   "metadata": {
    "collapsed": true
   },
   "outputs": [],
   "source": [
    "import pandas as pd\n",
    "import numpy as np\n",
    "\n",
    "import seaborn as sns\n",
    "import matplotlib.pyplot as plt\n",
    "%matplotlib inline\n",
    "from collections import defaultdict\n",
    "from datetime import date\n",
    "\n",
    "import re # for regular expressions\n",
    "import string\n",
    "import os\n",
    "import nltk\n",
    "from nltk.corpus import stopwords\n",
    "from nltk.stem.snowball import SnowballStemmer\n",
    "from nltk.stem import WordNetLemmatizer\n",
    "from nltk.tokenize import sent_tokenize, word_tokenize\n",
    "from nltk import pos_tag\n",
    "from nltk.tokenize import TweetTokenizer\n",
    "import advertools as adv"
   ]
  },
  {
   "cell_type": "code",
   "execution_count": 3,
   "outputs": [
    {
     "name": "stderr",
     "output_type": "stream",
     "text": [
      "C:\\Users\\51588\\anaconda3\\lib\\site-packages\\IPython\\core\\interactiveshell.py:3146: DtypeWarning: Columns (15) have mixed types.Specify dtype option on import or set low_memory=False.\n",
      "  has_raised = await self.run_ast_nodes(code_ast.body, cell_name,\n"
     ]
    },
    {
     "data": {
      "text/plain": "               tweetcreatedts  \\\n0  2022-04-01 00:00:00.000000   \n1  2022-04-01 00:00:00.000000   \n2  2022-04-01 00:00:00.000000   \n3  2022-04-01 00:00:00.000000   \n4  2022-04-01 00:00:00.000000   \n\n                                                text  \n0  ⚡The Ukrainian Air Force would like to address...  \n1  Chernihiv oblast. Ukrainians welcome their lib...  \n2  America 🇺🇸 is preparing for something worse th...  \n3  JUST IN: #Anonymous has hacked &amp; released ...  \n4  ***PUBLIC MINT NOW LIVE***\\n\\nFor \\n@billionai...  ",
      "text/html": "<div>\n<style scoped>\n    .dataframe tbody tr th:only-of-type {\n        vertical-align: middle;\n    }\n\n    .dataframe tbody tr th {\n        vertical-align: top;\n    }\n\n    .dataframe thead th {\n        text-align: right;\n    }\n</style>\n<table border=\"1\" class=\"dataframe\">\n  <thead>\n    <tr style=\"text-align: right;\">\n      <th></th>\n      <th>tweetcreatedts</th>\n      <th>text</th>\n    </tr>\n  </thead>\n  <tbody>\n    <tr>\n      <th>0</th>\n      <td>2022-04-01 00:00:00.000000</td>\n      <td>⚡The Ukrainian Air Force would like to address...</td>\n    </tr>\n    <tr>\n      <th>1</th>\n      <td>2022-04-01 00:00:00.000000</td>\n      <td>Chernihiv oblast. Ukrainians welcome their lib...</td>\n    </tr>\n    <tr>\n      <th>2</th>\n      <td>2022-04-01 00:00:00.000000</td>\n      <td>America 🇺🇸 is preparing for something worse th...</td>\n    </tr>\n    <tr>\n      <th>3</th>\n      <td>2022-04-01 00:00:00.000000</td>\n      <td>JUST IN: #Anonymous has hacked &amp;amp; released ...</td>\n    </tr>\n    <tr>\n      <th>4</th>\n      <td>2022-04-01 00:00:00.000000</td>\n      <td>***PUBLIC MINT NOW LIVE***\\n\\nFor \\n@billionai...</td>\n    </tr>\n  </tbody>\n</table>\n</div>"
     },
     "execution_count": 3,
     "metadata": {},
     "output_type": "execute_result"
    }
   ],
   "source": [
    "# read tweets from csv file\n",
    "tweets = pd.read_csv('./data/0401_UkraineCombinedTweetsDeduped.csv')\n",
    "tweets = tweets[tweets['language']==\"en\"]\n",
    "tweets = tweets[[\"tweetcreatedts\", \"text\"]]\n",
    "tweets.head()"
   ],
   "metadata": {
    "collapsed": false,
    "pycharm": {
     "name": "#%%\n"
    }
   }
  },
  {
   "cell_type": "code",
   "execution_count": 4,
   "outputs": [],
   "source": [
    "# for test propose, reduce records\n",
    "tweets_short = tweets[0:1000]"
   ],
   "metadata": {
    "collapsed": false,
    "pycharm": {
     "name": "#%%\n"
    }
   }
  },
  {
   "cell_type": "code",
   "execution_count": 7,
   "outputs": [],
   "source": [
    "from nrclex import NRCLex\n",
    "from collections import Counter\n",
    "from tqdm import tqdm\n",
    "from Lexicon import lexicon\n",
    "tqdm.pandas()\n",
    "class EmotionDetector:\n",
    "    # copyed from nrclex.py, remove positive and negative emotions\n",
    "\n",
    "    wordnet_lemmatizer = WordNetLemmatizer()\n",
    "    tk = TweetTokenizer()\n",
    "    stop_words = set(stopwords.words('english'))\n",
    "    # initialize lexicon\n",
    "    def __init__(self, emoji_factor = 1):\n",
    "        # load lexico from https://github.com/abushoeb/EmoTag for emoji emotion detection\n",
    "        #ncr = pd.read_csv('resource_folder/lexicon.csv', sep =';')\n",
    "        emoji_lexicon = pd.read_csv('resource_folder/EmoTag1200-scores.csv', sep =',')\n",
    "        self.emoji_dict = emoji_lexicon.set_index('emoji').T.to_dict()\n",
    "        self.emoji_factor = emoji_factor\n",
    "\n",
    "    def process(self, dataFrame, columnName='text'):\n",
    "        print(\"begin extract emoji \")\n",
    "        emoji_summary = adv.extract_emoji(dataFrame[columnName])\n",
    "        dataFrame['emojis'] = emoji_summary['emoji']\n",
    "        #dataFrame['tokens'] = dataFrame[columnName].apply(EmotionDetector.pre_process)\n",
    "        dataFrame['tokens'] = dataFrame[columnName].progress_apply(EmotionDetector.pre_process)\n",
    "        res = dataFrame.progress_apply(self.emotion_analysis,axis=1)\n",
    "        result = pd.concat([dataFrame, res], axis=1)\n",
    "        return result\n",
    "\n",
    "    def emotion_analysis(self, row):\n",
    "        #print(\"1111\")\n",
    "        #print(row)\n",
    "        words = row[\"tokens\"]\n",
    "        emojis = row['emojis']\n",
    "        # refer NRCLex\n",
    "        affect_list = []\n",
    "        affect_dict = dict()\n",
    "        affect_frequencies = Counter()\n",
    "        lexicon_keys = lexicon.keys()\n",
    "        for word in words:\n",
    "            if word in lexicon_keys:\n",
    "                affect_list.extend(lexicon[word])\n",
    "                affect_dict.update({word: lexicon[word]})\n",
    "        for word in affect_list:\n",
    "            affect_frequencies[word] += 1\n",
    "\n",
    "\n",
    "\n",
    "        affect_percent = {'fear': 0.0, 'anger': 0.0, 'anticipation': 0.0, 'trust': 0.0, 'surprise': 0.0,\n",
    "                           'sadness': 0.0, 'disgust': 0.0, 'joy': 0.0}\n",
    "\n",
    "        emoji_lexicon_keys = self.emoji_dict.keys();\n",
    "        for emoji in emojis:\n",
    "            #print(emoji)\n",
    "            if emoji in emoji_lexicon_keys:\n",
    "                emoji_affect_dic = self.emoji_dict[emoji]\n",
    "                for key in affect_percent.keys():\n",
    "                    if emoji_affect_dic[key] > 0:\n",
    "                        affect_frequencies[key] += emoji_affect_dic[key] * self.emoji_factor\n",
    "                        affect_list.append(key)\n",
    "                        #affect_dict.update({emoji: {affect:emoji_affect_dic[affect] for affect in emoji_affect_dic if emoji_affect_dic[affect] >0}})\n",
    "        sum_values = sum(affect_frequencies.values())\n",
    "        for key in affect_frequencies.keys():\n",
    "            #print(affect_frequencies)\n",
    "            affect_percent.update({key: float(affect_frequencies[key]) / float(sum_values)})\n",
    "        emo_dict = affect_frequencies\n",
    "        top_emotions = []\n",
    "        if emo_dict.__len__()>0:\n",
    "            max_value = max(emo_dict.values())\n",
    "            for key in emo_dict.keys():\n",
    "                if emo_dict[key] == max_value:\n",
    "                    top_emotions.append((key, max_value))\n",
    "\n",
    "        return pd.Series([affect_list,affect_dict,dict(affect_frequencies),affect_percent,top_emotions],\n",
    "                         index=['affect_list', 'affect_dict', 'affect_frequencies', 'affect_percent','top_emotions'])\n",
    "\n",
    "    @staticmethod\n",
    "    def pre_process(text):\n",
    "        #print(text)\n",
    "        # clean text\n",
    "        text = EmotionDetector.cleanText(str(text))\n",
    "        #print(text)\n",
    "        #emoji_summary = adv.extract_emoji([text])\n",
    "        #print(emoji_summary['emoji'])\n",
    "        #tokenization = nltk.word_tokenize(text)\n",
    "        tokenization = EmotionDetector.tk.tokenize(text)\n",
    "\n",
    "        filtered_words = [word for word in tokenization if word not in EmotionDetector.stop_words]\n",
    "        map_object = map(EmotionDetector.wordnet_lemmatizer.lemmatize, filtered_words)\n",
    "        lemma_words = list(map_object)\n",
    "        #print(lemma_words)\n",
    "        return lemma_words\n",
    "\n",
    "\n",
    "    @staticmethod\n",
    "    def cleanText(text):\n",
    "        text=text.lower()\n",
    "        text = re.sub(r'@\\w+','', text) # remove @member\n",
    "        text = re.sub(r'#','', text) # remove # symbol\n",
    "        text = re.sub(r'https?:\\/\\/\\S+','', text) # remove the hyper link\n",
    "        return text"
   ],
   "metadata": {
    "collapsed": false,
    "pycharm": {
     "name": "#%%\n"
    }
   }
  },
  {
   "cell_type": "code",
   "execution_count": 8,
   "outputs": [
    {
     "name": "stdout",
     "output_type": "stream",
     "text": [
      "begin extract emoji \n"
     ]
    },
    {
     "name": "stderr",
     "output_type": "stream",
     "text": [
      "<ipython-input-7-8c4d4ad2d5c8>:23: SettingWithCopyWarning: \n",
      "A value is trying to be set on a copy of a slice from a DataFrame.\n",
      "Try using .loc[row_indexer,col_indexer] = value instead\n",
      "\n",
      "See the caveats in the documentation: https://pandas.pydata.org/pandas-docs/stable/user_guide/indexing.html#returning-a-view-versus-a-copy\n",
      "  dataFrame['emojis'] = emoji_summary['emoji']\n",
      "100%|██████████| 1000/1000 [00:00<00:00, 1698.12it/s]\n",
      "<ipython-input-7-8c4d4ad2d5c8>:25: SettingWithCopyWarning: \n",
      "A value is trying to be set on a copy of a slice from a DataFrame.\n",
      "Try using .loc[row_indexer,col_indexer] = value instead\n",
      "\n",
      "See the caveats in the documentation: https://pandas.pydata.org/pandas-docs/stable/user_guide/indexing.html#returning-a-view-versus-a-copy\n",
      "  dataFrame['tokens'] = dataFrame[columnName].progress_apply(EmotionDetector.pre_process)\n",
      "100%|██████████| 1000/1000 [00:00<00:00, 1514.81it/s]\n"
     ]
    },
    {
     "data": {
      "text/plain": "                 tweetcreatedts  \\\n0    2022-04-01 00:00:00.000000   \n1    2022-04-01 00:00:00.000000   \n2    2022-04-01 00:00:00.000000   \n3    2022-04-01 00:00:00.000000   \n4    2022-04-01 00:00:00.000000   \n..                          ...   \n123  2022-04-01 00:00:30.000000   \n124  2022-04-01 00:00:30.000000   \n125  2022-04-01 00:00:31.000000   \n127  2022-04-01 00:00:31.000000   \n128  2022-04-01 00:00:31.000000   \n\n                                                  text  \\\n0    ⚡The Ukrainian Air Force would like to address...   \n1    Chernihiv oblast. Ukrainians welcome their lib...   \n2    America 🇺🇸 is preparing for something worse th...   \n3    JUST IN: #Anonymous has hacked &amp; released ...   \n4    ***PUBLIC MINT NOW LIVE***\\n\\nFor \\n@billionai...   \n..                                                 ...   \n123  💙💛  Cover of the April issue of Polish Vogue \\...   \n124  #Ukrainian forces successfully conducted local...   \n125  ⚡The Ukrainian Air Force would like to address...   \n127  ❌Myth: The US and @NATO are providing #Ukraine...   \n128  Scramble for #gas #settodraw US$10B into #Tanz...   \n\n                      emojis  \\\n0                 [⚡, 🇺🇦, 🧵]   \n1                         []   \n2    [🇺🇸, 🇹🇼, 🇷🇺, 🇺🇸, 🇨🇳, 👇]   \n3                         []   \n4                         []   \n..                       ...   \n123                   [💙, 💛]   \n124                       []   \n125               [⚡, 🇺🇦, 🧵]   \n127                   [❌, ✅]   \n128                       []   \n\n                                                tokens  \\\n0    [⚡, ukrainian, air, force, would, like, addres...   \n1    [chernihiv, oblast, ., ukrainian, welcome, lib...   \n2    [america, 🇺, 🇸, preparing, something, worse, r...   \n3    [:, anonymous, hacked, &, released, 62,000, em...   \n4    [*, *, *, public, mint, live, *, *, *, win, $,...   \n..                                                 ...   \n123  [💙, 💛, cover, april, issue, polish, vogue, cre...   \n124  [ukrainian, force, successfully, conducted, lo...   \n125  [⚡, ukrainian, air, force, would, like, addres...   \n127  [❌, myth, :, u, providing, ukraine, needed, we...   \n128  [scramble, gas, settodraw, u, $, 10b, tanzania...   \n\n                                           affect_list  \\\n0    [anger, fear, trust, fear, anger, anticipation...   \n1                                                   []   \n2    [fear, sadness, fear, trust, fear, anger, anti...   \n3                                                   []   \n4    [anticipation, anticipation, anticipation, joy...   \n..                                                 ...   \n123  [trust, anticipation, trust, surprise, sadness...   \n124                        [anger, fear, anticipation]   \n125  [anger, fear, trust, fear, anger, anticipation...   \n127  [anticipation, joy, trust, trust, anger, fear,...   \n128                                                 []   \n\n                                           affect_dict  \\\n0      {'force': ['anger', 'fear'], 'ally': ['trust']}   \n1                                                   {}   \n2    {'worse': ['fear', 'sadness'], 'war': ['fear']...   \n3                                                   {}   \n4    {'public': ['anticipation'], 'good': ['anticip...   \n..                                                 ...   \n123                               {'cover': ['trust']}   \n124  {'force': ['anger', 'fear'], 'coming': ['antic...   \n125    {'force': ['anger', 'fear'], 'ally': ['trust']}   \n127  {'providing': ['anticipation', 'joy', 'trust']...   \n128                                                 {}   \n\n                                    affect_frequencies  \\\n0    {'anger': 1.28, 'fear': 1.25, 'trust': 1.14000...   \n1                                                   {}   \n2    {'fear': 2.06, 'sadness': 1, 'trust': 1.11, 'a...   \n3                                                   {}   \n4    {'anticipation': 4, 'joy': 2, 'surprise': 2, '...   \n..                                                 ...   \n123  {'trust': 1.6400000000000001, 'anticipation': ...   \n124         {'anger': 1, 'fear': 1, 'anticipation': 1}   \n125  {'anger': 1.28, 'fear': 1.25, 'trust': 1.14000...   \n127  {'anticipation': 2.45, 'joy': 1.19, 'trust': 4...   \n128                                                 {}   \n\n                                        affect_percent  \\\n0    {'fear': 0.2790178571428571, 'anger': 0.285714...   \n1    {'fear': 0.0, 'anger': 0.0, 'anticipation': 0....   \n2    {'fear': 0.4660633484162896, 'anger': 0.024886...   \n3    {'fear': 0.0, 'anger': 0.0, 'anticipation': 0....   \n4    {'fear': 0.0, 'anger': 0.0, 'anticipation': 0....   \n..                                                 ...   \n123  {'fear': 0.0, 'anger': 0.00804289544235925, 'a...   \n124  {'fear': 0.3333333333333333, 'anger': 0.333333...   \n125  {'fear': 0.2790178571428571, 'anger': 0.285714...   \n127  {'fear': 0.16363636363636364, 'anger': 0.18181...   \n128  {'fear': 0.0, 'anger': 0.0, 'anticipation': 0....   \n\n                                   top_emotions  \n0                               [(anger, 1.28)]  \n1                                            []  \n2                                [(fear, 2.06)]  \n3                                            []  \n4                           [(anticipation, 4)]  \n..                                          ...  \n123               [(trust, 1.6400000000000001)]  \n124  [(anger, 1), (fear, 1), (anticipation, 1)]  \n125                             [(anger, 1.28)]  \n127                             [(trust, 4.39)]  \n128                                          []  \n\n[100 rows x 9 columns]",
      "text/html": "<div>\n<style scoped>\n    .dataframe tbody tr th:only-of-type {\n        vertical-align: middle;\n    }\n\n    .dataframe tbody tr th {\n        vertical-align: top;\n    }\n\n    .dataframe thead th {\n        text-align: right;\n    }\n</style>\n<table border=\"1\" class=\"dataframe\">\n  <thead>\n    <tr style=\"text-align: right;\">\n      <th></th>\n      <th>tweetcreatedts</th>\n      <th>text</th>\n      <th>emojis</th>\n      <th>tokens</th>\n      <th>affect_list</th>\n      <th>affect_dict</th>\n      <th>affect_frequencies</th>\n      <th>affect_percent</th>\n      <th>top_emotions</th>\n    </tr>\n  </thead>\n  <tbody>\n    <tr>\n      <th>0</th>\n      <td>2022-04-01 00:00:00.000000</td>\n      <td>⚡The Ukrainian Air Force would like to address...</td>\n      <td>[⚡, 🇺🇦, 🧵]</td>\n      <td>[⚡, ukrainian, air, force, would, like, addres...</td>\n      <td>[anger, fear, trust, fear, anger, anticipation...</td>\n      <td>{'force': ['anger', 'fear'], 'ally': ['trust']}</td>\n      <td>{'anger': 1.28, 'fear': 1.25, 'trust': 1.14000...</td>\n      <td>{'fear': 0.2790178571428571, 'anger': 0.285714...</td>\n      <td>[(anger, 1.28)]</td>\n    </tr>\n    <tr>\n      <th>1</th>\n      <td>2022-04-01 00:00:00.000000</td>\n      <td>Chernihiv oblast. Ukrainians welcome their lib...</td>\n      <td>[]</td>\n      <td>[chernihiv, oblast, ., ukrainian, welcome, lib...</td>\n      <td>[]</td>\n      <td>{}</td>\n      <td>{}</td>\n      <td>{'fear': 0.0, 'anger': 0.0, 'anticipation': 0....</td>\n      <td>[]</td>\n    </tr>\n    <tr>\n      <th>2</th>\n      <td>2022-04-01 00:00:00.000000</td>\n      <td>America 🇺🇸 is preparing for something worse th...</td>\n      <td>[🇺🇸, 🇹🇼, 🇷🇺, 🇺🇸, 🇨🇳, 👇]</td>\n      <td>[america, 🇺, 🇸, preparing, something, worse, r...</td>\n      <td>[fear, sadness, fear, trust, fear, anger, anti...</td>\n      <td>{'worse': ['fear', 'sadness'], 'war': ['fear']...</td>\n      <td>{'fear': 2.06, 'sadness': 1, 'trust': 1.11, 'a...</td>\n      <td>{'fear': 0.4660633484162896, 'anger': 0.024886...</td>\n      <td>[(fear, 2.06)]</td>\n    </tr>\n    <tr>\n      <th>3</th>\n      <td>2022-04-01 00:00:00.000000</td>\n      <td>JUST IN: #Anonymous has hacked &amp;amp; released ...</td>\n      <td>[]</td>\n      <td>[:, anonymous, hacked, &amp;, released, 62,000, em...</td>\n      <td>[]</td>\n      <td>{}</td>\n      <td>{}</td>\n      <td>{'fear': 0.0, 'anger': 0.0, 'anticipation': 0....</td>\n      <td>[]</td>\n    </tr>\n    <tr>\n      <th>4</th>\n      <td>2022-04-01 00:00:00.000000</td>\n      <td>***PUBLIC MINT NOW LIVE***\\n\\nFor \\n@billionai...</td>\n      <td>[]</td>\n      <td>[*, *, *, public, mint, live, *, *, *, win, $,...</td>\n      <td>[anticipation, anticipation, anticipation, joy...</td>\n      <td>{'public': ['anticipation'], 'good': ['anticip...</td>\n      <td>{'anticipation': 4, 'joy': 2, 'surprise': 2, '...</td>\n      <td>{'fear': 0.0, 'anger': 0.0, 'anticipation': 0....</td>\n      <td>[(anticipation, 4)]</td>\n    </tr>\n    <tr>\n      <th>...</th>\n      <td>...</td>\n      <td>...</td>\n      <td>...</td>\n      <td>...</td>\n      <td>...</td>\n      <td>...</td>\n      <td>...</td>\n      <td>...</td>\n      <td>...</td>\n    </tr>\n    <tr>\n      <th>123</th>\n      <td>2022-04-01 00:00:30.000000</td>\n      <td>💙💛  Cover of the April issue of Polish Vogue \\...</td>\n      <td>[💙, 💛]</td>\n      <td>[💙, 💛, cover, april, issue, polish, vogue, cre...</td>\n      <td>[trust, anticipation, trust, surprise, sadness...</td>\n      <td>{'cover': ['trust']}</td>\n      <td>{'trust': 1.6400000000000001, 'anticipation': ...</td>\n      <td>{'fear': 0.0, 'anger': 0.00804289544235925, 'a...</td>\n      <td>[(trust, 1.6400000000000001)]</td>\n    </tr>\n    <tr>\n      <th>124</th>\n      <td>2022-04-01 00:00:30.000000</td>\n      <td>#Ukrainian forces successfully conducted local...</td>\n      <td>[]</td>\n      <td>[ukrainian, force, successfully, conducted, lo...</td>\n      <td>[anger, fear, anticipation]</td>\n      <td>{'force': ['anger', 'fear'], 'coming': ['antic...</td>\n      <td>{'anger': 1, 'fear': 1, 'anticipation': 1}</td>\n      <td>{'fear': 0.3333333333333333, 'anger': 0.333333...</td>\n      <td>[(anger, 1), (fear, 1), (anticipation, 1)]</td>\n    </tr>\n    <tr>\n      <th>125</th>\n      <td>2022-04-01 00:00:31.000000</td>\n      <td>⚡The Ukrainian Air Force would like to address...</td>\n      <td>[⚡, 🇺🇦, 🧵]</td>\n      <td>[⚡, ukrainian, air, force, would, like, addres...</td>\n      <td>[anger, fear, trust, fear, anger, anticipation...</td>\n      <td>{'force': ['anger', 'fear'], 'ally': ['trust']}</td>\n      <td>{'anger': 1.28, 'fear': 1.25, 'trust': 1.14000...</td>\n      <td>{'fear': 0.2790178571428571, 'anger': 0.285714...</td>\n      <td>[(anger, 1.28)]</td>\n    </tr>\n    <tr>\n      <th>127</th>\n      <td>2022-04-01 00:00:31.000000</td>\n      <td>❌Myth: The US and @NATO are providing #Ukraine...</td>\n      <td>[❌, ✅]</td>\n      <td>[❌, myth, :, u, providing, ukraine, needed, we...</td>\n      <td>[anticipation, joy, trust, trust, anger, fear,...</td>\n      <td>{'providing': ['anticipation', 'joy', 'trust']...</td>\n      <td>{'anticipation': 2.45, 'joy': 1.19, 'trust': 4...</td>\n      <td>{'fear': 0.16363636363636364, 'anger': 0.18181...</td>\n      <td>[(trust, 4.39)]</td>\n    </tr>\n    <tr>\n      <th>128</th>\n      <td>2022-04-01 00:00:31.000000</td>\n      <td>Scramble for #gas #settodraw US$10B into #Tanz...</td>\n      <td>[]</td>\n      <td>[scramble, gas, settodraw, u, $, 10b, tanzania...</td>\n      <td>[]</td>\n      <td>{}</td>\n      <td>{}</td>\n      <td>{'fear': 0.0, 'anger': 0.0, 'anticipation': 0....</td>\n      <td>[]</td>\n    </tr>\n  </tbody>\n</table>\n<p>100 rows × 9 columns</p>\n</div>"
     },
     "execution_count": 8,
     "metadata": {},
     "output_type": "execute_result"
    }
   ],
   "source": [
    "# test\n",
    "ed = EmotionDetector()\n",
    "res = ed.process(tweets_short)\n",
    "res.head(100)"
   ],
   "metadata": {
    "collapsed": false,
    "pycharm": {
     "name": "#%%\n"
    }
   }
  },
  {
   "cell_type": "code",
   "execution_count": 134,
   "outputs": [],
   "source": [
    "res.to_csv(\"res.csv\")"
   ],
   "metadata": {
    "collapsed": false,
    "pycharm": {
     "name": "#%%\n"
    }
   }
  },
  {
   "cell_type": "code",
   "execution_count": 72,
   "outputs": [
    {
     "data": {
      "text/plain": "                tweetcreatedts  \\\n0   2022-04-01 00:00:00.000000   \n1   2022-04-01 00:00:00.000000   \n2   2022-04-01 00:00:00.000000   \n3   2022-04-01 00:00:00.000000   \n4   2022-04-01 00:00:00.000000   \n5   2022-04-01 00:00:00.000000   \n6   2022-04-01 00:00:00.000000   \n7   2022-04-01 00:00:00.000000   \n8   2022-04-01 00:00:00.000000   \n9   2022-04-01 00:00:00.000000   \n10  2022-04-01 00:00:00.000000   \n11  2022-04-01 00:00:00.000000   \n13  2022-04-01 00:00:01.000000   \n14  2022-04-01 00:00:01.000000   \n16  2022-04-01 00:00:01.000000   \n17  2022-04-01 00:00:01.000000   \n19  2022-04-01 00:00:01.000000   \n22  2022-04-01 00:00:02.000000   \n25  2022-04-01 00:00:02.000000   \n26  2022-04-01 00:00:02.000000   \n28  2022-04-01 00:00:03.000000   \n31  2022-04-01 00:00:04.000000   \n32  2022-04-01 00:00:05.000000   \n33  2022-04-01 00:00:05.000000   \n34  2022-04-01 00:00:05.000000   \n35  2022-04-01 00:00:05.000000   \n37  2022-04-01 00:00:06.000000   \n38  2022-04-01 00:00:06.000000   \n39  2022-04-01 00:00:06.000000   \n42  2022-04-01 00:00:06.000000   \n43  2022-04-01 00:00:06.000000   \n44  2022-04-01 00:00:07.000000   \n45  2022-04-01 00:00:07.000000   \n46  2022-04-01 00:00:07.000000   \n47  2022-04-01 00:00:07.000000   \n48  2022-04-01 00:00:08.000000   \n49  2022-04-01 00:00:08.000000   \n50  2022-04-01 00:00:08.000000   \n51  2022-04-01 00:00:08.000000   \n52  2022-04-01 00:00:08.000000   \n54  2022-04-01 00:00:08.000000   \n55  2022-04-01 00:00:10.000000   \n56  2022-04-01 00:00:10.000000   \n57  2022-04-01 00:00:11.000000   \n58  2022-04-01 00:00:11.000000   \n59  2022-04-01 00:00:11.000000   \n60  2022-04-01 00:00:11.000000   \n61  2022-04-01 00:00:12.000000   \n62  2022-04-01 00:00:12.000000   \n63  2022-04-01 00:00:12.000000   \n\n                                                 text  \\\n0   ⚡The Ukrainian Air Force would like to address...   \n1   Chernihiv oblast. Ukrainians welcome their lib...   \n2   America 🇺🇸 is preparing for something worse th...   \n3   JUST IN: #Anonymous has hacked &amp; released ...   \n4   ***PUBLIC MINT NOW LIVE***\\n\\nFor \\n@billionai...   \n5   The Amazing story of Former Sussex County Dela...   \n6   &amp;quot;How we were waiting for you!&amp;quo...   \n7   India's purchase of discounted #Russian crude ...   \n8   The most basic tenet of what stability exists ...   \n9   \"The image that Russia acquired over the past ...   \n10  #Russia’s President Vladimir #Putin says he ha...   \n11  Sad to read of the #RussianArmy invading of #C...   \n13  Tank T-34 at the memorial to #Soviet troops in...   \n14  The #Anonymous collective has sent 7.000.000 a...   \n16  ***PUBLIC MINT NOW LIVE***\\n\\nFor \\n@billionai...   \n17  #UkraineWar \\n#Russia #Ukraine war report #30m...   \n19  Read: https://t.co/kzxUuS6Z4d\\n.\\n.\\n.\\n.\\n.\\n...   \n22  Police officers in Kropyvnytskyi #Ukraine foun...   \n25  #Exclusive | Donetsk is witnessing a fierce fi...   \n26  🇷🇺💢🇺🇦🛢️⛽️💶\\n\\nPutin says foreign buyers must p...   \n28  #Ukraine: A damaged and abandoned BM-21 Grad p...   \n31  #Exclusive | Donetsk is witnessing a fierce fi...   \n32  #Ukraine: A Ukrainian transport helicopter (li...   \n33  #Putin declares that all \"unfriendly countries...   \n34  Jaime and Antoine discuss their initial reacti...   \n35  @GovKathyHochul We love a COVID update But wha...   \n37  Is #VladimirPutin facing mutiny? The #Russian ...   \n38  IAEA Director General @RafaelMGrossi just arri...   \n39  As the world focuses the #UkraineWar, our fami...   \n42  #Ukraine: A claimed withdrawing VDV convoy in ...   \n43  The air war over #Ukraine is now a month old. ...   \n44  #Ukraine: UA forces captured a Russian T-90A t...   \n45  In the middle of war a cat adopts a human and ...   \n46  @AdamKinzinger Enough is enough, Send in the t...   \n47  Dr S Jai Shankar @DrSJaishankar in Beast Mode ...   \n48  full story https://t.co/TEFyHSwish 🟪🟪#biden #b...   \n49  Yesterday, a British journalist asked me about...   \n50  Scramble for #gas #settodraw US$10B into #Tanz...   \n51  ⭕️🇺🇦 #Ukraine: Video from the battles in #Mari...   \n52  #Ukraine Roundtable\\n@doodlebugeye \\n#TLAV wit...   \n54  #Ukraine: Various previously unseen Russian lo...   \n55  Friends, I cannot keep wiping away tears of: #...   \n56  @BBCHARDtalk what the heck happened there. #Uk...   \n57  @DivorcedNy @juliaioffe In this case, the vodk...   \n58  ***PUBLIC MINT NOW LIVE***\\n\\nFor @billionaire...   \n59  #Ukraine Roundtable\\n#TLAV\\n@VanessaBeeley, @E...   \n60  .@ICRC 👈 your comment please? 👇\\n\\n#Ukraine #Z...   \n61  ⚡The Ukrainian Air Force would like to address...   \n62  @carolecadwalla #JohnsonOut67 #PutinsBrexit\\n#...   \n63  Aftermath of Russian shelling on Saltivka, #Kh...   \n\n                                               tokens                    emoji  \n0   [⚡, ukrainian, air, force, would, like, addres...               [⚡, 🇺🇦, 🧵]  \n1   [chernihiv, oblast, ., ukrainian, welcome, lib...                       []  \n2   [america, 🇺, 🇸, preparing, something, worse, r...  [🇺🇸, 🇹🇼, 🇷🇺, 🇺🇸, 🇨🇳, 👇]  \n3   [:, anonymous, hacked, &, released, 62,000, em...                       []  \n4   [*, *, *, public, mint, live, *, *, *, win, $,...                       []  \n5   [amazing, story, former, sussex, county, delaw...                     [🇺🇸]  \n6   [&, quot, ;, waiting, !, &, quot, ;:, chernihi...                       []  \n7   [india's, purchase, discounted, russian, crude...                       []  \n8   [basic, tenet, stability, exists, world, borde...                       []  \n9   [\", image, russia, acquired, past, two, decade...                       []  \n10  [russia, ’, president, vladimir, putin, say, s...                       []  \n11  [sad, read, russianarmy, invading, chernobyl, ...                       []  \n13  [tank, -, 34, memorial, soviet, troop, berlin,...                       []  \n14  [anonymous, collective, sent, 7.000, ., 000, a...                       []  \n16  [*, *, *, public, mint, live, *, *, *, win, $,...                       []  \n17  [ukrainewar, russia, ukraine, war, report, 30m...                       []  \n19  [read, :, .\\n.\\n.\\n.\\n., peace, ukraine, democ...                       []  \n22  [police, officer, kropyvnytskyi, ukraine, foun...                       []  \n25  [exclusive, |, donetsk, witnessing, fierce, fi...                       []  \n26  [🇷, 🇺, 💢, 🇺, 🇦, 🛢, ️, ⛽, ️, 💶, putin, say, for...    [🇷🇺, 💢, 🇺🇦, 🛢️, ⛽, 💶]  \n28  [ukraine, :, damaged, abandoned, bm, -, 21, gr...                       []  \n31  [exclusive, |, donetsk, witnessing, fierce, fi...                       []  \n32  [ukraine, :, ukrainian, transport, helicopter,...                       []  \n33  [putin, declares, \", unfriendly, country, \", m...                       []  \n34  [jaime, antoine, discus, initial, reaction, uk...                       []  \n35  [love, covid, update, hunter, biden, ?, ’, hac...                       []  \n37  [vladimirputin, facing, mutiny, ?, russian, pr...                       []  \n38  [iaea, director, general, arrived, kaliningrad...                       []  \n39  [world, focus, ukrainewar, ,, family, tigray, ...                       []  \n42  [ukraine, :, claimed, withdrawing, vdv, convoy...                       []  \n43  [air, war, ukraine, month, old, ., episode, ch...                      [👉]  \n44  [ukraine, :, ua, force, captured, russian, -, ...                       []  \n45  [middle, war, cat, adopts, human, offer, snugg...                       []  \n46  [enough, enough, ,, send, troop, ., stop, puti...                       []  \n47  [dr, jai, shankar, beast, mode, 👏, 👏, q, india...                [👏, 👏, 👏]  \n48  [full, story, 🟪, 🟪, biden, blackexcellence, bl...                   [🟪, 🟪]  \n49  [yesterday, ,, british, journalist, asked, evi...                       []  \n50  [scramble, gas, settodraw, u, $, 10b, tanzania...                       []  \n51  [⭕, ️, 🇺, 🇦, ukraine, :, video, battle, mariup...                  [⭕, 🇺🇦]  \n52                     [ukraine, roundtable, tlav, ?]                       []  \n54  [ukraine, :, various, previously, unseen, russ...                       []  \n55  [friend, ,, cannot, keep, wiping, away, tear, ...                       []  \n56  [heck, happened, ., ukrainerussiawar, please, ...                       []  \n57  [case, ,, vodka, shitty, -, vodka, aka, horilk...                       []  \n58  [*, *, *, public, mint, live, *, *, *, win, $,...                       []  \n59  [ukraine, roundtable, tlav, ,, &, alex, thomso...                       []  \n60  [., 👈, comment, please, ?, 👇, ukraine, zelensk...                [👈, 👇, 📍]  \n61  [⚡, ukrainian, air, force, would, like, addres...               [⚡, 🇺🇦, 🧵]  \n62  [johnsonout, 67, putinsbrexit, carolecadwallad...           [☮️, 🇺🇦, 🙏, 💐]  \n63  [aftermath, russian, shelling, saltivka, ,, kh...                       []  ",
      "text/html": "<div>\n<style scoped>\n    .dataframe tbody tr th:only-of-type {\n        vertical-align: middle;\n    }\n\n    .dataframe tbody tr th {\n        vertical-align: top;\n    }\n\n    .dataframe thead th {\n        text-align: right;\n    }\n</style>\n<table border=\"1\" class=\"dataframe\">\n  <thead>\n    <tr style=\"text-align: right;\">\n      <th></th>\n      <th>tweetcreatedts</th>\n      <th>text</th>\n      <th>tokens</th>\n      <th>emoji</th>\n    </tr>\n  </thead>\n  <tbody>\n    <tr>\n      <th>0</th>\n      <td>2022-04-01 00:00:00.000000</td>\n      <td>⚡The Ukrainian Air Force would like to address...</td>\n      <td>[⚡, ukrainian, air, force, would, like, addres...</td>\n      <td>[⚡, 🇺🇦, 🧵]</td>\n    </tr>\n    <tr>\n      <th>1</th>\n      <td>2022-04-01 00:00:00.000000</td>\n      <td>Chernihiv oblast. Ukrainians welcome their lib...</td>\n      <td>[chernihiv, oblast, ., ukrainian, welcome, lib...</td>\n      <td>[]</td>\n    </tr>\n    <tr>\n      <th>2</th>\n      <td>2022-04-01 00:00:00.000000</td>\n      <td>America 🇺🇸 is preparing for something worse th...</td>\n      <td>[america, 🇺, 🇸, preparing, something, worse, r...</td>\n      <td>[🇺🇸, 🇹🇼, 🇷🇺, 🇺🇸, 🇨🇳, 👇]</td>\n    </tr>\n    <tr>\n      <th>3</th>\n      <td>2022-04-01 00:00:00.000000</td>\n      <td>JUST IN: #Anonymous has hacked &amp;amp; released ...</td>\n      <td>[:, anonymous, hacked, &amp;, released, 62,000, em...</td>\n      <td>[]</td>\n    </tr>\n    <tr>\n      <th>4</th>\n      <td>2022-04-01 00:00:00.000000</td>\n      <td>***PUBLIC MINT NOW LIVE***\\n\\nFor \\n@billionai...</td>\n      <td>[*, *, *, public, mint, live, *, *, *, win, $,...</td>\n      <td>[]</td>\n    </tr>\n    <tr>\n      <th>5</th>\n      <td>2022-04-01 00:00:00.000000</td>\n      <td>The Amazing story of Former Sussex County Dela...</td>\n      <td>[amazing, story, former, sussex, county, delaw...</td>\n      <td>[🇺🇸]</td>\n    </tr>\n    <tr>\n      <th>6</th>\n      <td>2022-04-01 00:00:00.000000</td>\n      <td>&amp;amp;quot;How we were waiting for you!&amp;amp;quo...</td>\n      <td>[&amp;, quot, ;, waiting, !, &amp;, quot, ;:, chernihi...</td>\n      <td>[]</td>\n    </tr>\n    <tr>\n      <th>7</th>\n      <td>2022-04-01 00:00:00.000000</td>\n      <td>India's purchase of discounted #Russian crude ...</td>\n      <td>[india's, purchase, discounted, russian, crude...</td>\n      <td>[]</td>\n    </tr>\n    <tr>\n      <th>8</th>\n      <td>2022-04-01 00:00:00.000000</td>\n      <td>The most basic tenet of what stability exists ...</td>\n      <td>[basic, tenet, stability, exists, world, borde...</td>\n      <td>[]</td>\n    </tr>\n    <tr>\n      <th>9</th>\n      <td>2022-04-01 00:00:00.000000</td>\n      <td>\"The image that Russia acquired over the past ...</td>\n      <td>[\", image, russia, acquired, past, two, decade...</td>\n      <td>[]</td>\n    </tr>\n    <tr>\n      <th>10</th>\n      <td>2022-04-01 00:00:00.000000</td>\n      <td>#Russia’s President Vladimir #Putin says he ha...</td>\n      <td>[russia, ’, president, vladimir, putin, say, s...</td>\n      <td>[]</td>\n    </tr>\n    <tr>\n      <th>11</th>\n      <td>2022-04-01 00:00:00.000000</td>\n      <td>Sad to read of the #RussianArmy invading of #C...</td>\n      <td>[sad, read, russianarmy, invading, chernobyl, ...</td>\n      <td>[]</td>\n    </tr>\n    <tr>\n      <th>13</th>\n      <td>2022-04-01 00:00:01.000000</td>\n      <td>Tank T-34 at the memorial to #Soviet troops in...</td>\n      <td>[tank, -, 34, memorial, soviet, troop, berlin,...</td>\n      <td>[]</td>\n    </tr>\n    <tr>\n      <th>14</th>\n      <td>2022-04-01 00:00:01.000000</td>\n      <td>The #Anonymous collective has sent 7.000.000 a...</td>\n      <td>[anonymous, collective, sent, 7.000, ., 000, a...</td>\n      <td>[]</td>\n    </tr>\n    <tr>\n      <th>16</th>\n      <td>2022-04-01 00:00:01.000000</td>\n      <td>***PUBLIC MINT NOW LIVE***\\n\\nFor \\n@billionai...</td>\n      <td>[*, *, *, public, mint, live, *, *, *, win, $,...</td>\n      <td>[]</td>\n    </tr>\n    <tr>\n      <th>17</th>\n      <td>2022-04-01 00:00:01.000000</td>\n      <td>#UkraineWar \\n#Russia #Ukraine war report #30m...</td>\n      <td>[ukrainewar, russia, ukraine, war, report, 30m...</td>\n      <td>[]</td>\n    </tr>\n    <tr>\n      <th>19</th>\n      <td>2022-04-01 00:00:01.000000</td>\n      <td>Read: https://t.co/kzxUuS6Z4d\\n.\\n.\\n.\\n.\\n.\\n...</td>\n      <td>[read, :, .\\n.\\n.\\n.\\n., peace, ukraine, democ...</td>\n      <td>[]</td>\n    </tr>\n    <tr>\n      <th>22</th>\n      <td>2022-04-01 00:00:02.000000</td>\n      <td>Police officers in Kropyvnytskyi #Ukraine foun...</td>\n      <td>[police, officer, kropyvnytskyi, ukraine, foun...</td>\n      <td>[]</td>\n    </tr>\n    <tr>\n      <th>25</th>\n      <td>2022-04-01 00:00:02.000000</td>\n      <td>#Exclusive | Donetsk is witnessing a fierce fi...</td>\n      <td>[exclusive, |, donetsk, witnessing, fierce, fi...</td>\n      <td>[]</td>\n    </tr>\n    <tr>\n      <th>26</th>\n      <td>2022-04-01 00:00:02.000000</td>\n      <td>🇷🇺💢🇺🇦🛢️⛽️💶\\n\\nPutin says foreign buyers must p...</td>\n      <td>[🇷, 🇺, 💢, 🇺, 🇦, 🛢, ️, ⛽, ️, 💶, putin, say, for...</td>\n      <td>[🇷🇺, 💢, 🇺🇦, 🛢️, ⛽, 💶]</td>\n    </tr>\n    <tr>\n      <th>28</th>\n      <td>2022-04-01 00:00:03.000000</td>\n      <td>#Ukraine: A damaged and abandoned BM-21 Grad p...</td>\n      <td>[ukraine, :, damaged, abandoned, bm, -, 21, gr...</td>\n      <td>[]</td>\n    </tr>\n    <tr>\n      <th>31</th>\n      <td>2022-04-01 00:00:04.000000</td>\n      <td>#Exclusive | Donetsk is witnessing a fierce fi...</td>\n      <td>[exclusive, |, donetsk, witnessing, fierce, fi...</td>\n      <td>[]</td>\n    </tr>\n    <tr>\n      <th>32</th>\n      <td>2022-04-01 00:00:05.000000</td>\n      <td>#Ukraine: A Ukrainian transport helicopter (li...</td>\n      <td>[ukraine, :, ukrainian, transport, helicopter,...</td>\n      <td>[]</td>\n    </tr>\n    <tr>\n      <th>33</th>\n      <td>2022-04-01 00:00:05.000000</td>\n      <td>#Putin declares that all \"unfriendly countries...</td>\n      <td>[putin, declares, \", unfriendly, country, \", m...</td>\n      <td>[]</td>\n    </tr>\n    <tr>\n      <th>34</th>\n      <td>2022-04-01 00:00:05.000000</td>\n      <td>Jaime and Antoine discuss their initial reacti...</td>\n      <td>[jaime, antoine, discus, initial, reaction, uk...</td>\n      <td>[]</td>\n    </tr>\n    <tr>\n      <th>35</th>\n      <td>2022-04-01 00:00:05.000000</td>\n      <td>@GovKathyHochul We love a COVID update But wha...</td>\n      <td>[love, covid, update, hunter, biden, ?, ’, hac...</td>\n      <td>[]</td>\n    </tr>\n    <tr>\n      <th>37</th>\n      <td>2022-04-01 00:00:06.000000</td>\n      <td>Is #VladimirPutin facing mutiny? The #Russian ...</td>\n      <td>[vladimirputin, facing, mutiny, ?, russian, pr...</td>\n      <td>[]</td>\n    </tr>\n    <tr>\n      <th>38</th>\n      <td>2022-04-01 00:00:06.000000</td>\n      <td>IAEA Director General @RafaelMGrossi just arri...</td>\n      <td>[iaea, director, general, arrived, kaliningrad...</td>\n      <td>[]</td>\n    </tr>\n    <tr>\n      <th>39</th>\n      <td>2022-04-01 00:00:06.000000</td>\n      <td>As the world focuses the #UkraineWar, our fami...</td>\n      <td>[world, focus, ukrainewar, ,, family, tigray, ...</td>\n      <td>[]</td>\n    </tr>\n    <tr>\n      <th>42</th>\n      <td>2022-04-01 00:00:06.000000</td>\n      <td>#Ukraine: A claimed withdrawing VDV convoy in ...</td>\n      <td>[ukraine, :, claimed, withdrawing, vdv, convoy...</td>\n      <td>[]</td>\n    </tr>\n    <tr>\n      <th>43</th>\n      <td>2022-04-01 00:00:06.000000</td>\n      <td>The air war over #Ukraine is now a month old. ...</td>\n      <td>[air, war, ukraine, month, old, ., episode, ch...</td>\n      <td>[👉]</td>\n    </tr>\n    <tr>\n      <th>44</th>\n      <td>2022-04-01 00:00:07.000000</td>\n      <td>#Ukraine: UA forces captured a Russian T-90A t...</td>\n      <td>[ukraine, :, ua, force, captured, russian, -, ...</td>\n      <td>[]</td>\n    </tr>\n    <tr>\n      <th>45</th>\n      <td>2022-04-01 00:00:07.000000</td>\n      <td>In the middle of war a cat adopts a human and ...</td>\n      <td>[middle, war, cat, adopts, human, offer, snugg...</td>\n      <td>[]</td>\n    </tr>\n    <tr>\n      <th>46</th>\n      <td>2022-04-01 00:00:07.000000</td>\n      <td>@AdamKinzinger Enough is enough, Send in the t...</td>\n      <td>[enough, enough, ,, send, troop, ., stop, puti...</td>\n      <td>[]</td>\n    </tr>\n    <tr>\n      <th>47</th>\n      <td>2022-04-01 00:00:07.000000</td>\n      <td>Dr S Jai Shankar @DrSJaishankar in Beast Mode ...</td>\n      <td>[dr, jai, shankar, beast, mode, 👏, 👏, q, india...</td>\n      <td>[👏, 👏, 👏]</td>\n    </tr>\n    <tr>\n      <th>48</th>\n      <td>2022-04-01 00:00:08.000000</td>\n      <td>full story https://t.co/TEFyHSwish 🟪🟪#biden #b...</td>\n      <td>[full, story, 🟪, 🟪, biden, blackexcellence, bl...</td>\n      <td>[🟪, 🟪]</td>\n    </tr>\n    <tr>\n      <th>49</th>\n      <td>2022-04-01 00:00:08.000000</td>\n      <td>Yesterday, a British journalist asked me about...</td>\n      <td>[yesterday, ,, british, journalist, asked, evi...</td>\n      <td>[]</td>\n    </tr>\n    <tr>\n      <th>50</th>\n      <td>2022-04-01 00:00:08.000000</td>\n      <td>Scramble for #gas #settodraw US$10B into #Tanz...</td>\n      <td>[scramble, gas, settodraw, u, $, 10b, tanzania...</td>\n      <td>[]</td>\n    </tr>\n    <tr>\n      <th>51</th>\n      <td>2022-04-01 00:00:08.000000</td>\n      <td>⭕️🇺🇦 #Ukraine: Video from the battles in #Mari...</td>\n      <td>[⭕, ️, 🇺, 🇦, ukraine, :, video, battle, mariup...</td>\n      <td>[⭕, 🇺🇦]</td>\n    </tr>\n    <tr>\n      <th>52</th>\n      <td>2022-04-01 00:00:08.000000</td>\n      <td>#Ukraine Roundtable\\n@doodlebugeye \\n#TLAV wit...</td>\n      <td>[ukraine, roundtable, tlav, ?]</td>\n      <td>[]</td>\n    </tr>\n    <tr>\n      <th>54</th>\n      <td>2022-04-01 00:00:08.000000</td>\n      <td>#Ukraine: Various previously unseen Russian lo...</td>\n      <td>[ukraine, :, various, previously, unseen, russ...</td>\n      <td>[]</td>\n    </tr>\n    <tr>\n      <th>55</th>\n      <td>2022-04-01 00:00:10.000000</td>\n      <td>Friends, I cannot keep wiping away tears of: #...</td>\n      <td>[friend, ,, cannot, keep, wiping, away, tear, ...</td>\n      <td>[]</td>\n    </tr>\n    <tr>\n      <th>56</th>\n      <td>2022-04-01 00:00:10.000000</td>\n      <td>@BBCHARDtalk what the heck happened there. #Uk...</td>\n      <td>[heck, happened, ., ukrainerussiawar, please, ...</td>\n      <td>[]</td>\n    </tr>\n    <tr>\n      <th>57</th>\n      <td>2022-04-01 00:00:11.000000</td>\n      <td>@DivorcedNy @juliaioffe In this case, the vodk...</td>\n      <td>[case, ,, vodka, shitty, -, vodka, aka, horilk...</td>\n      <td>[]</td>\n    </tr>\n    <tr>\n      <th>58</th>\n      <td>2022-04-01 00:00:11.000000</td>\n      <td>***PUBLIC MINT NOW LIVE***\\n\\nFor @billionaire...</td>\n      <td>[*, *, *, public, mint, live, *, *, *, win, $,...</td>\n      <td>[]</td>\n    </tr>\n    <tr>\n      <th>59</th>\n      <td>2022-04-01 00:00:11.000000</td>\n      <td>#Ukraine Roundtable\\n#TLAV\\n@VanessaBeeley, @E...</td>\n      <td>[ukraine, roundtable, tlav, ,, &amp;, alex, thomso...</td>\n      <td>[]</td>\n    </tr>\n    <tr>\n      <th>60</th>\n      <td>2022-04-01 00:00:11.000000</td>\n      <td>.@ICRC 👈 your comment please? 👇\\n\\n#Ukraine #Z...</td>\n      <td>[., 👈, comment, please, ?, 👇, ukraine, zelensk...</td>\n      <td>[👈, 👇, 📍]</td>\n    </tr>\n    <tr>\n      <th>61</th>\n      <td>2022-04-01 00:00:12.000000</td>\n      <td>⚡The Ukrainian Air Force would like to address...</td>\n      <td>[⚡, ukrainian, air, force, would, like, addres...</td>\n      <td>[⚡, 🇺🇦, 🧵]</td>\n    </tr>\n    <tr>\n      <th>62</th>\n      <td>2022-04-01 00:00:12.000000</td>\n      <td>@carolecadwalla #JohnsonOut67 #PutinsBrexit\\n#...</td>\n      <td>[johnsonout, 67, putinsbrexit, carolecadwallad...</td>\n      <td>[☮️, 🇺🇦, 🙏, 💐]</td>\n    </tr>\n    <tr>\n      <th>63</th>\n      <td>2022-04-01 00:00:12.000000</td>\n      <td>Aftermath of Russian shelling on Saltivka, #Kh...</td>\n      <td>[aftermath, russian, shelling, saltivka, ,, kh...</td>\n      <td>[]</td>\n    </tr>\n  </tbody>\n</table>\n</div>"
     },
     "execution_count": 72,
     "metadata": {},
     "output_type": "execute_result"
    }
   ],
   "source": [],
   "metadata": {
    "collapsed": false,
    "pycharm": {
     "name": "#%%\n"
    }
   }
  }
 ],
 "metadata": {
  "kernelspec": {
   "display_name": "Python 3",
   "language": "python",
   "name": "python3"
  },
  "language_info": {
   "codemirror_mode": {
    "name": "ipython",
    "version": 2
   },
   "file_extension": ".py",
   "mimetype": "text/x-python",
   "name": "python",
   "nbconvert_exporter": "python",
   "pygments_lexer": "ipython2",
   "version": "2.7.6"
  }
 },
 "nbformat": 4,
 "nbformat_minor": 0
}