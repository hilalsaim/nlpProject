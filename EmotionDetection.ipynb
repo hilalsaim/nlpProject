{
 "cells": [
  {
   "cell_type": "code",
   "execution_count": 1,
   "metadata": {
    "collapsed": true
   },
   "outputs": [],
   "source": [
    "import pandas as pd\n",
    "import numpy as np\n",
    "\n",
    "import seaborn as sns\n",
    "import matplotlib.pyplot as plt\n",
    "%matplotlib inline\n",
    "from collections import defaultdict\n",
    "from datetime import date\n",
    "\n",
    "import re # for regular expressions\n",
    "import string\n",
    "import os\n",
    "import nltk\n",
    "from nltk.corpus import stopwords\n",
    "from nltk.stem.snowball import SnowballStemmer\n",
    "from nltk.stem import WordNetLemmatizer\n",
    "from nltk.tokenize import sent_tokenize, word_tokenize\n",
    "from nltk import pos_tag\n",
    "from nltk.tokenize import TweetTokenizer\n",
    "import advertools as adv"
   ]
  },
  {
   "cell_type": "code",
   "execution_count": 2,
   "outputs": [
    {
     "name": "stderr",
     "output_type": "stream",
     "text": [
      "C:\\Users\\51588\\anaconda3\\lib\\site-packages\\IPython\\core\\interactiveshell.py:3146: DtypeWarning: Columns (15) have mixed types.Specify dtype option on import or set low_memory=False.\n",
      "  has_raised = await self.run_ast_nodes(code_ast.body, cell_name,\n"
     ]
    },
    {
     "data": {
      "text/plain": "                    tweetcreatedts  \\\n0       2022-04-01 00:00:00.000000   \n1       2022-04-01 00:00:00.000000   \n2       2022-04-01 00:00:00.000000   \n3       2022-04-01 00:00:00.000000   \n4       2022-04-01 00:00:00.000000   \n...                            ...   \n254621  2022-04-01 23:59:57.000000   \n254622  2022-04-01 23:59:57.000000   \n254623  2022-04-01 23:59:58.000000   \n254624  2022-04-01 23:59:58.000000   \n254625  2022-04-01 23:59:59.000000   \n\n                                                     text  \n0       ⚡The Ukrainian Air Force would like to address...  \n1       Chernihiv oblast. Ukrainians welcome their lib...  \n2       America 🇺🇸 is preparing for something worse th...  \n3       JUST IN: #Anonymous has hacked &amp; released ...  \n4       ***PUBLIC MINT NOW LIVE***\\n\\nFor \\n@billionai...  \n...                                                   ...  \n254621  14-year-old Yura from #Bucha told how a Russia...  \n254622  #RussianUkrainianWar #UkraineRussianWar #Russi...  \n254623  “From where Winston stood it was just possible...  \n254624  When I said tonight in front of 3000 people In...  \n254625  We’re back. No funny stuff #UKRAINE https://t....  \n\n[254626 rows x 2 columns]",
      "text/html": "<div>\n<style scoped>\n    .dataframe tbody tr th:only-of-type {\n        vertical-align: middle;\n    }\n\n    .dataframe tbody tr th {\n        vertical-align: top;\n    }\n\n    .dataframe thead th {\n        text-align: right;\n    }\n</style>\n<table border=\"1\" class=\"dataframe\">\n  <thead>\n    <tr style=\"text-align: right;\">\n      <th></th>\n      <th>tweetcreatedts</th>\n      <th>text</th>\n    </tr>\n  </thead>\n  <tbody>\n    <tr>\n      <th>0</th>\n      <td>2022-04-01 00:00:00.000000</td>\n      <td>⚡The Ukrainian Air Force would like to address...</td>\n    </tr>\n    <tr>\n      <th>1</th>\n      <td>2022-04-01 00:00:00.000000</td>\n      <td>Chernihiv oblast. Ukrainians welcome their lib...</td>\n    </tr>\n    <tr>\n      <th>2</th>\n      <td>2022-04-01 00:00:00.000000</td>\n      <td>America 🇺🇸 is preparing for something worse th...</td>\n    </tr>\n    <tr>\n      <th>3</th>\n      <td>2022-04-01 00:00:00.000000</td>\n      <td>JUST IN: #Anonymous has hacked &amp;amp; released ...</td>\n    </tr>\n    <tr>\n      <th>4</th>\n      <td>2022-04-01 00:00:00.000000</td>\n      <td>***PUBLIC MINT NOW LIVE***\\n\\nFor \\n@billionai...</td>\n    </tr>\n    <tr>\n      <th>...</th>\n      <td>...</td>\n      <td>...</td>\n    </tr>\n    <tr>\n      <th>254621</th>\n      <td>2022-04-01 23:59:57.000000</td>\n      <td>14-year-old Yura from #Bucha told how a Russia...</td>\n    </tr>\n    <tr>\n      <th>254622</th>\n      <td>2022-04-01 23:59:57.000000</td>\n      <td>#RussianUkrainianWar #UkraineRussianWar #Russi...</td>\n    </tr>\n    <tr>\n      <th>254623</th>\n      <td>2022-04-01 23:59:58.000000</td>\n      <td>“From where Winston stood it was just possible...</td>\n    </tr>\n    <tr>\n      <th>254624</th>\n      <td>2022-04-01 23:59:58.000000</td>\n      <td>When I said tonight in front of 3000 people In...</td>\n    </tr>\n    <tr>\n      <th>254625</th>\n      <td>2022-04-01 23:59:59.000000</td>\n      <td>We’re back. No funny stuff #UKRAINE https://t....</td>\n    </tr>\n  </tbody>\n</table>\n<p>254626 rows × 2 columns</p>\n</div>"
     },
     "execution_count": 2,
     "metadata": {},
     "output_type": "execute_result"
    }
   ],
   "source": [
    "# read tweets from csv file\n",
    "tweets = pd.read_csv('./data/0401_UkraineCombinedTweetsDeduped.csv')\n",
    "tweets = tweets[tweets['language']==\"en\"]\n",
    "tweets = tweets[[\"tweetcreatedts\", \"text\"]]\n",
    "tweets.head()\n",
    "tweets.reset_index(drop=True)"
   ],
   "metadata": {
    "collapsed": false,
    "pycharm": {
     "name": "#%%\n"
    }
   }
  },
  {
   "cell_type": "code",
   "execution_count": 3,
   "outputs": [],
   "source": [
    "# for test propose, reduce records\n",
    "tweets_short = tweets[0:5000]"
   ],
   "metadata": {
    "collapsed": false,
    "pycharm": {
     "name": "#%%\n"
    }
   }
  },
  {
   "cell_type": "code",
   "execution_count": 10,
   "outputs": [],
   "source": [
    "from nrclex import NRCLex\n",
    "from collections import Counter\n",
    "from tqdm import tqdm\n",
    "from Lexicon import lexicon\n",
    "from vaderSentiment.vaderSentiment import SentimentIntensityAnalyzer\n",
    "tqdm.pandas()\n",
    "class EmotionDetector:\n",
    "    # copyed from nrclex.py, remove positive and negative emotions\n",
    "\n",
    "    wordnet_lemmatizer = WordNetLemmatizer()\n",
    "    tk = TweetTokenizer()\n",
    "    stop_words = set(stopwords.words('english'))\n",
    "    analyser = SentimentIntensityAnalyzer()\n",
    "    # initialize lexicon\n",
    "    def __init__(self, emoji_factor = 1):\n",
    "        # load lexico from https://github.com/abushoeb/EmoTag for emoji emotion detection\n",
    "        #ncr = pd.read_csv('resource_folder/lexicon.csv', sep =';')\n",
    "        emoji_lexicon = pd.read_csv('resource_folder/EmoTag1200-scores.csv', sep =',')\n",
    "        self.emoji_dict = emoji_lexicon.set_index('emoji').T.to_dict()\n",
    "        self.emoji_factor = emoji_factor\n",
    "\n",
    "    def process(self, dataFrame, columnName='text'):\n",
    "        print(\"begin extract emoji \")\n",
    "        emoji_summary = adv.extract_emoji(dataFrame[columnName])\n",
    "        dataFrame['emojis'] = emoji_summary['emoji']\n",
    "        #dataFrame['tokens'] = dataFrame[columnName].apply(EmotionDetector.pre_process)\n",
    "        #dataFrame['tokens'] = dataFrame[columnName].progress_apply(EmotionDetector.pre_process)\n",
    "        pre_process_res= dataFrame[columnName].progress_apply(EmotionDetector.pre_process)\n",
    "        dataFrame = pd.concat([dataFrame, pre_process_res], axis=1)\n",
    "        res = dataFrame.progress_apply(self.emotion_analysis,axis=1)\n",
    "        dataFrame = pd.concat([dataFrame, res], axis=1)\n",
    "        sentiment_analysis_res = dataFrame.progress_apply(self.sentiment_analysis,axis=1)\n",
    "        dataFrame = pd.concat([dataFrame, sentiment_analysis_res], axis=1)\n",
    "        return dataFrame\n",
    "\n",
    "\n",
    "    def sentiment_analysis(self, row):\n",
    "        words = row[\"tokens\"]\n",
    "        score = EmotionDetector.analyser.polarity_scores(str(words))\n",
    "        score=score['compound']\n",
    "        res = 'Neutral'\n",
    "        if score>=0.5:\n",
    "            res = 'Positive'\n",
    "        elif score<=-0.05:\n",
    "            res = 'Negative'\n",
    "        else:\n",
    "            res = 'Neutral'\n",
    "        return pd.Series([score,res],\n",
    "                         index=['sentiment_score', 'sentiment'])\n",
    "    def emotion_analysis(self, row):\n",
    "        #print(\"1111\")\n",
    "        #print(row)\n",
    "        words = row[\"tokens\"]\n",
    "        emojis = row['emojis']\n",
    "        # refer NRCLex\n",
    "        affect_list = []\n",
    "        affect_dict = dict()\n",
    "        affect_frequencies = Counter()\n",
    "        lexicon_keys = lexicon.keys()\n",
    "        for word in words:\n",
    "            if word in lexicon_keys:\n",
    "                affect_list.extend(lexicon[word])\n",
    "                affect_dict.update({word: lexicon[word]})\n",
    "        for word in affect_list:\n",
    "            affect_frequencies[word] += 1\n",
    "\n",
    "\n",
    "\n",
    "        affect_percent = {'fear': 0.0, 'anger': 0.0, 'anticipation': 0.0, 'trust': 0.0, 'surprise': 0.0,\n",
    "                           'sadness': 0.0, 'disgust': 0.0, 'joy': 0.0}\n",
    "        top_emotions_dict = {'fear': 0, 'anger': 0, 'anticipation': 0, 'trust': 0, 'surprise': 0,\n",
    "                          'sadness': 0, 'disgust': 0, 'joy': 0}\n",
    "\n",
    "        emoji_lexicon_keys = self.emoji_dict.keys();\n",
    "        for emoji in emojis:\n",
    "            #print(emoji)\n",
    "            if emoji in emoji_lexicon_keys:\n",
    "                emoji_affect_dic = self.emoji_dict[emoji]\n",
    "                for key in affect_percent.keys():\n",
    "                    if emoji_affect_dic[key] > 0:\n",
    "                        affect_frequencies[key] += emoji_affect_dic[key] * self.emoji_factor\n",
    "                        affect_list.append(key)\n",
    "                        #affect_dict.update({emoji: {affect:emoji_affect_dic[affect] for affect in emoji_affect_dic if emoji_affect_dic[affect] >0}})\n",
    "        sum_values = sum(affect_frequencies.values())\n",
    "        for key in affect_frequencies.keys():\n",
    "            #print(affect_frequencies)\n",
    "            affect_percent.update({key: float(affect_frequencies[key]) / float(sum_values)})\n",
    "        emo_dict = affect_frequencies\n",
    "        top_emotions = []\n",
    "        if emo_dict.__len__()>0:\n",
    "            max_value = max(emo_dict.values())\n",
    "            for key in emo_dict.keys():\n",
    "                if emo_dict[key] == max_value:\n",
    "                    top_emotions_dict[key] = 1\n",
    "                    top_emotions.append((key, max_value))\n",
    "        # res = [affect_list,affect_dict,dict(affect_frequencies),affect_percent,top_emotions]\n",
    "        # res = res.append()\n",
    "        return pd.Series([affect_list,affect_dict,dict(affect_frequencies),affect_percent,top_emotions,*top_emotions_dict.values()],\n",
    "                         index=['affect_list', 'affect_dict', 'affect_frequencies', 'affect_percent','top_emotions',*top_emotions_dict.keys()])\n",
    "\n",
    "    @staticmethod\n",
    "    def pre_process(text):\n",
    "        #print(text)\n",
    "        # clean text\n",
    "        text = EmotionDetector.cleanText(str(text))\n",
    "        #print(text)\n",
    "        #emoji_summary = adv.extract_emoji([text])\n",
    "        #print(emoji_summary['emoji'])\n",
    "        #tokenization = nltk.word_tokenize(text)\n",
    "        tokenization = EmotionDetector.tk.tokenize(text)\n",
    "\n",
    "        filtered_words = [word for word in tokenization if word not in EmotionDetector.stop_words]\n",
    "        nouns = []\n",
    "        adjectives = []\n",
    "        for word, tag in pos_tag(filtered_words):\n",
    "            # since most tweets contain such words, it not helpful for future analysis\n",
    "            if word.startswith(\"russi\") or word.startswith(\"ukrai\"):\n",
    "                continue\n",
    "            if tag.startswith(\"NN\"): #Nouns\n",
    "                nouns.append(word)\n",
    "            elif tag.startswith(\"JJ\"): #Adjective\n",
    "                adjectives.append(word)\n",
    "        map_object = map(EmotionDetector.wordnet_lemmatizer.lemmatize, filtered_words)\n",
    "        lemma_words = list(map_object)\n",
    "        #print(lemma_words)\n",
    "        return pd.Series([lemma_words,nouns,adjectives],\n",
    "                         index=['tokens', 'nouns', 'adjectives'])\n",
    "        return\n",
    "\n",
    "\n",
    "    @staticmethod\n",
    "    def cleanText(text):\n",
    "        text=text.lower()\n",
    "        text = re.sub(r'RT @\\w+: ','', text) # remove RT\n",
    "        text = re.sub(r'@\\w+','', text) # remove @member\n",
    "        text = re.sub(r'#','', text) # remove # symbol\n",
    "        text = re.sub(r'https?:\\/\\/\\S+','', text) # remove the hyper link\n",
    "        return text"
   ],
   "metadata": {
    "collapsed": false,
    "pycharm": {
     "name": "#%%\n"
    }
   }
  },
  {
   "cell_type": "code",
   "execution_count": 11,
   "outputs": [
    {
     "name": "stdout",
     "output_type": "stream",
     "text": [
      "begin extract emoji \n"
     ]
    },
    {
     "name": "stderr",
     "output_type": "stream",
     "text": [
      "<ipython-input-10-56ecc3090a11>:25: SettingWithCopyWarning: \n",
      "A value is trying to be set on a copy of a slice from a DataFrame.\n",
      "Try using .loc[row_indexer,col_indexer] = value instead\n",
      "\n",
      "See the caveats in the documentation: https://pandas.pydata.org/pandas-docs/stable/user_guide/indexing.html#returning-a-view-versus-a-copy\n",
      "  dataFrame['emojis'] = emoji_summary['emoji']\n",
      "100%|██████████| 5000/5000 [00:12<00:00, 389.75it/s]\n",
      "100%|██████████| 5000/5000 [00:02<00:00, 2488.25it/s]\n",
      "100%|██████████| 5000/5000 [00:03<00:00, 1610.41it/s]\n"
     ]
    },
    {
     "data": {
      "text/plain": "                 tweetcreatedts  \\\n0    2022-04-01 00:00:00.000000   \n1    2022-04-01 00:00:00.000000   \n2    2022-04-01 00:00:00.000000   \n3    2022-04-01 00:00:00.000000   \n4    2022-04-01 00:00:00.000000   \n..                          ...   \n123  2022-04-01 00:00:30.000000   \n124  2022-04-01 00:00:30.000000   \n125  2022-04-01 00:00:31.000000   \n127  2022-04-01 00:00:31.000000   \n128  2022-04-01 00:00:31.000000   \n\n                                                  text  \\\n0    ⚡The Ukrainian Air Force would like to address...   \n1    Chernihiv oblast. Ukrainians welcome their lib...   \n2    America 🇺🇸 is preparing for something worse th...   \n3    JUST IN: #Anonymous has hacked &amp; released ...   \n4    ***PUBLIC MINT NOW LIVE***\\n\\nFor \\n@billionai...   \n..                                                 ...   \n123  💙💛  Cover of the April issue of Polish Vogue \\...   \n124  #Ukrainian forces successfully conducted local...   \n125  ⚡The Ukrainian Air Force would like to address...   \n127  ❌Myth: The US and @NATO are providing #Ukraine...   \n128  Scramble for #gas #settodraw US$10B into #Tanz...   \n\n                      emojis  \\\n0                 [⚡, 🇺🇦, 🧵]   \n1                         []   \n2    [🇺🇸, 🇹🇼, 🇷🇺, 🇺🇸, 🇨🇳, 👇]   \n3                         []   \n4                         []   \n..                       ...   \n123                   [💙, 💛]   \n124                       []   \n125               [⚡, 🇺🇦, 🧵]   \n127                   [❌, ✅]   \n128                       []   \n\n                                                tokens  \\\n0    [⚡, ukrainian, air, force, would, like, addres...   \n1    [chernihiv, oblast, ., ukrainian, welcome, lib...   \n2    [america, 🇺, 🇸, preparing, something, worse, r...   \n3    [:, anonymous, hacked, &, released, 62,000, em...   \n4    [*, *, *, public, mint, live, *, *, *, win, $,...   \n..                                                 ...   \n123  [💙, 💛, cover, april, issue, polish, vogue, cre...   \n124  [ukrainian, force, successfully, conducted, lo...   \n125  [⚡, ukrainian, air, force, would, like, addres...   \n127  [❌, myth, :, u, providing, ukraine, needed, we...   \n128  [scramble, gas, settodraw, u, $, 10b, tanzania...   \n\n                                                 nouns  \\\n0    [⚡, air, force, misinformation, media, outlets...   \n1    [chernihiv, oblast, liberators, stopputin, рос...   \n2    [america, 🇺, 🇸, something, 🇹, 🇼, month, war, 🇷...   \n3    [emails, marathon, group, investment, firm, al...   \n4    [*, *, mint, *, *, *, sale, mint, information,...   \n..                                                 ...   \n123  [💛, cover, april, issue, vogue, fashion, photo...   \n124  [forces, counterattacks, kyiv, towards, kherso...   \n125  [⚡, air, force, misinformation, media, outlets...   \n127  [myth, weapons, allies, everything, involvemen...   \n128                [gas, africa, energy, coal, mining]   \n\n                                            adjectives  \\\n0                    [address, multiple, western, sky]   \n1    [welcome, standwithukraine️, putinisawarcriminal]   \n2         [worse, taiwan, last, new, cold, best, full]   \n3       [anonymous, eu, son-in-law, foreign, oprussia]   \n4           [*, public, live, public, mint, good, nft]   \n..                                                 ...   \n123                               [💙, polish, yemchuk]   \n124       [local, likely, territory, east, read, full]   \n125                  [address, multiple, western, sky]   \n127     [❌, possible, short, direct, ✅, call, fighter]   \n128                        [scramble, tanzaniaproject]   \n\n                                           affect_list  \\\n0    [anger, fear, trust, fear, anger, anticipation...   \n1                                                   []   \n2    [fear, sadness, fear, trust, fear, anger, anti...   \n3                                                   []   \n4    [anticipation, anticipation, anticipation, joy...   \n..                                                 ...   \n123  [trust, anticipation, trust, surprise, sadness...   \n124                        [anger, fear, anticipation]   \n125  [anger, fear, trust, fear, anger, anticipation...   \n127  [anticipation, joy, trust, trust, anger, fear,...   \n128                                                 []   \n\n                                           affect_dict  \\\n0      {'force': ['anger', 'fear'], 'ally': ['trust']}   \n1                                                   {}   \n2    {'worse': ['fear', 'sadness'], 'war': ['fear']...   \n3                                                   {}   \n4    {'public': ['anticipation'], 'good': ['anticip...   \n..                                                 ...   \n123                               {'cover': ['trust']}   \n124  {'force': ['anger', 'fear'], 'coming': ['antic...   \n125    {'force': ['anger', 'fear'], 'ally': ['trust']}   \n127  {'providing': ['anticipation', 'joy', 'trust']...   \n128                                                 {}   \n\n                                    affect_frequencies  \\\n0    {'anger': 1.28, 'fear': 1.25, 'trust': 1.14000...   \n1                                                   {}   \n2    {'fear': 2.06, 'sadness': 1, 'trust': 1.11, 'a...   \n3                                                   {}   \n4    {'anticipation': 4, 'joy': 2, 'surprise': 2, '...   \n..                                                 ...   \n123  {'trust': 1.6400000000000001, 'anticipation': ...   \n124         {'anger': 1, 'fear': 1, 'anticipation': 1}   \n125  {'anger': 1.28, 'fear': 1.25, 'trust': 1.14000...   \n127  {'anticipation': 2.45, 'joy': 1.19, 'trust': 4...   \n128                                                 {}   \n\n                                        affect_percent  ... fear  anger  \\\n0    {'fear': 0.2790178571428571, 'anger': 0.285714...  ...    0      1   \n1    {'fear': 0.0, 'anger': 0.0, 'anticipation': 0....  ...    0      0   \n2    {'fear': 0.4660633484162896, 'anger': 0.024886...  ...    1      0   \n3    {'fear': 0.0, 'anger': 0.0, 'anticipation': 0....  ...    0      0   \n4    {'fear': 0.0, 'anger': 0.0, 'anticipation': 0....  ...    0      0   \n..                                                 ...  ...  ...    ...   \n123  {'fear': 0.0, 'anger': 0.00804289544235925, 'a...  ...    0      0   \n124  {'fear': 0.3333333333333333, 'anger': 0.333333...  ...    1      1   \n125  {'fear': 0.2790178571428571, 'anger': 0.285714...  ...    0      1   \n127  {'fear': 0.16363636363636364, 'anger': 0.18181...  ...    0      0   \n128  {'fear': 0.0, 'anger': 0.0, 'anticipation': 0....  ...    0      0   \n\n     anticipation  trust  surprise  sadness  disgust  joy  sentiment_score  \\\n0               0      0         0        0        0    0           0.4404   \n1               0      0         0        0        0    0           0.4588   \n2               0      0         0        0        0    0          -0.4215   \n3               0      0         0        0        0    0          -0.4019   \n4               1      0         0        0        0    0           0.8829   \n..            ...    ...       ...      ...      ...  ...              ...   \n123             0      1         0        0        0    0           0.8860   \n124             1      0         0        0        0    0           0.4939   \n125             0      0         0        0        0    0           0.4404   \n127             0      1         0        0        0    0           0.0000   \n128             0      0         0        0        0    0           0.2732   \n\n     sentiment  \n0      Neutral  \n1      Neutral  \n2     Negative  \n3     Negative  \n4     Positive  \n..         ...  \n123   Positive  \n124    Neutral  \n125    Neutral  \n127    Neutral  \n128    Neutral  \n\n[100 rows x 21 columns]",
      "text/html": "<div>\n<style scoped>\n    .dataframe tbody tr th:only-of-type {\n        vertical-align: middle;\n    }\n\n    .dataframe tbody tr th {\n        vertical-align: top;\n    }\n\n    .dataframe thead th {\n        text-align: right;\n    }\n</style>\n<table border=\"1\" class=\"dataframe\">\n  <thead>\n    <tr style=\"text-align: right;\">\n      <th></th>\n      <th>tweetcreatedts</th>\n      <th>text</th>\n      <th>emojis</th>\n      <th>tokens</th>\n      <th>nouns</th>\n      <th>adjectives</th>\n      <th>affect_list</th>\n      <th>affect_dict</th>\n      <th>affect_frequencies</th>\n      <th>affect_percent</th>\n      <th>...</th>\n      <th>fear</th>\n      <th>anger</th>\n      <th>anticipation</th>\n      <th>trust</th>\n      <th>surprise</th>\n      <th>sadness</th>\n      <th>disgust</th>\n      <th>joy</th>\n      <th>sentiment_score</th>\n      <th>sentiment</th>\n    </tr>\n  </thead>\n  <tbody>\n    <tr>\n      <th>0</th>\n      <td>2022-04-01 00:00:00.000000</td>\n      <td>⚡The Ukrainian Air Force would like to address...</td>\n      <td>[⚡, 🇺🇦, 🧵]</td>\n      <td>[⚡, ukrainian, air, force, would, like, addres...</td>\n      <td>[⚡, air, force, misinformation, media, outlets...</td>\n      <td>[address, multiple, western, sky]</td>\n      <td>[anger, fear, trust, fear, anger, anticipation...</td>\n      <td>{'force': ['anger', 'fear'], 'ally': ['trust']}</td>\n      <td>{'anger': 1.28, 'fear': 1.25, 'trust': 1.14000...</td>\n      <td>{'fear': 0.2790178571428571, 'anger': 0.285714...</td>\n      <td>...</td>\n      <td>0</td>\n      <td>1</td>\n      <td>0</td>\n      <td>0</td>\n      <td>0</td>\n      <td>0</td>\n      <td>0</td>\n      <td>0</td>\n      <td>0.4404</td>\n      <td>Neutral</td>\n    </tr>\n    <tr>\n      <th>1</th>\n      <td>2022-04-01 00:00:00.000000</td>\n      <td>Chernihiv oblast. Ukrainians welcome their lib...</td>\n      <td>[]</td>\n      <td>[chernihiv, oblast, ., ukrainian, welcome, lib...</td>\n      <td>[chernihiv, oblast, liberators, stopputin, рос...</td>\n      <td>[welcome, standwithukraine️, putinisawarcriminal]</td>\n      <td>[]</td>\n      <td>{}</td>\n      <td>{}</td>\n      <td>{'fear': 0.0, 'anger': 0.0, 'anticipation': 0....</td>\n      <td>...</td>\n      <td>0</td>\n      <td>0</td>\n      <td>0</td>\n      <td>0</td>\n      <td>0</td>\n      <td>0</td>\n      <td>0</td>\n      <td>0</td>\n      <td>0.4588</td>\n      <td>Neutral</td>\n    </tr>\n    <tr>\n      <th>2</th>\n      <td>2022-04-01 00:00:00.000000</td>\n      <td>America 🇺🇸 is preparing for something worse th...</td>\n      <td>[🇺🇸, 🇹🇼, 🇷🇺, 🇺🇸, 🇨🇳, 👇]</td>\n      <td>[america, 🇺, 🇸, preparing, something, worse, r...</td>\n      <td>[america, 🇺, 🇸, something, 🇹, 🇼, month, war, 🇷...</td>\n      <td>[worse, taiwan, last, new, cold, best, full]</td>\n      <td>[fear, sadness, fear, trust, fear, anger, anti...</td>\n      <td>{'worse': ['fear', 'sadness'], 'war': ['fear']...</td>\n      <td>{'fear': 2.06, 'sadness': 1, 'trust': 1.11, 'a...</td>\n      <td>{'fear': 0.4660633484162896, 'anger': 0.024886...</td>\n      <td>...</td>\n      <td>1</td>\n      <td>0</td>\n      <td>0</td>\n      <td>0</td>\n      <td>0</td>\n      <td>0</td>\n      <td>0</td>\n      <td>0</td>\n      <td>-0.4215</td>\n      <td>Negative</td>\n    </tr>\n    <tr>\n      <th>3</th>\n      <td>2022-04-01 00:00:00.000000</td>\n      <td>JUST IN: #Anonymous has hacked &amp;amp; released ...</td>\n      <td>[]</td>\n      <td>[:, anonymous, hacked, &amp;, released, 62,000, em...</td>\n      <td>[emails, marathon, group, investment, firm, al...</td>\n      <td>[anonymous, eu, son-in-law, foreign, oprussia]</td>\n      <td>[]</td>\n      <td>{}</td>\n      <td>{}</td>\n      <td>{'fear': 0.0, 'anger': 0.0, 'anticipation': 0....</td>\n      <td>...</td>\n      <td>0</td>\n      <td>0</td>\n      <td>0</td>\n      <td>0</td>\n      <td>0</td>\n      <td>0</td>\n      <td>0</td>\n      <td>0</td>\n      <td>-0.4019</td>\n      <td>Negative</td>\n    </tr>\n    <tr>\n      <th>4</th>\n      <td>2022-04-01 00:00:00.000000</td>\n      <td>***PUBLIC MINT NOW LIVE***\\n\\nFor \\n@billionai...</td>\n      <td>[]</td>\n      <td>[*, *, *, public, mint, live, *, *, *, win, $,...</td>\n      <td>[*, *, mint, *, *, *, sale, mint, information,...</td>\n      <td>[*, public, live, public, mint, good, nft]</td>\n      <td>[anticipation, anticipation, anticipation, joy...</td>\n      <td>{'public': ['anticipation'], 'good': ['anticip...</td>\n      <td>{'anticipation': 4, 'joy': 2, 'surprise': 2, '...</td>\n      <td>{'fear': 0.0, 'anger': 0.0, 'anticipation': 0....</td>\n      <td>...</td>\n      <td>0</td>\n      <td>0</td>\n      <td>1</td>\n      <td>0</td>\n      <td>0</td>\n      <td>0</td>\n      <td>0</td>\n      <td>0</td>\n      <td>0.8829</td>\n      <td>Positive</td>\n    </tr>\n    <tr>\n      <th>...</th>\n      <td>...</td>\n      <td>...</td>\n      <td>...</td>\n      <td>...</td>\n      <td>...</td>\n      <td>...</td>\n      <td>...</td>\n      <td>...</td>\n      <td>...</td>\n      <td>...</td>\n      <td>...</td>\n      <td>...</td>\n      <td>...</td>\n      <td>...</td>\n      <td>...</td>\n      <td>...</td>\n      <td>...</td>\n      <td>...</td>\n      <td>...</td>\n      <td>...</td>\n      <td>...</td>\n    </tr>\n    <tr>\n      <th>123</th>\n      <td>2022-04-01 00:00:30.000000</td>\n      <td>💙💛  Cover of the April issue of Polish Vogue \\...</td>\n      <td>[💙, 💛]</td>\n      <td>[💙, 💛, cover, april, issue, polish, vogue, cre...</td>\n      <td>[💛, cover, april, issue, vogue, fashion, photo...</td>\n      <td>[💙, polish, yemchuk]</td>\n      <td>[trust, anticipation, trust, surprise, sadness...</td>\n      <td>{'cover': ['trust']}</td>\n      <td>{'trust': 1.6400000000000001, 'anticipation': ...</td>\n      <td>{'fear': 0.0, 'anger': 0.00804289544235925, 'a...</td>\n      <td>...</td>\n      <td>0</td>\n      <td>0</td>\n      <td>0</td>\n      <td>1</td>\n      <td>0</td>\n      <td>0</td>\n      <td>0</td>\n      <td>0</td>\n      <td>0.8860</td>\n      <td>Positive</td>\n    </tr>\n    <tr>\n      <th>124</th>\n      <td>2022-04-01 00:00:30.000000</td>\n      <td>#Ukrainian forces successfully conducted local...</td>\n      <td>[]</td>\n      <td>[ukrainian, force, successfully, conducted, lo...</td>\n      <td>[forces, counterattacks, kyiv, towards, kherso...</td>\n      <td>[local, likely, territory, east, read, full]</td>\n      <td>[anger, fear, anticipation]</td>\n      <td>{'force': ['anger', 'fear'], 'coming': ['antic...</td>\n      <td>{'anger': 1, 'fear': 1, 'anticipation': 1}</td>\n      <td>{'fear': 0.3333333333333333, 'anger': 0.333333...</td>\n      <td>...</td>\n      <td>1</td>\n      <td>1</td>\n      <td>1</td>\n      <td>0</td>\n      <td>0</td>\n      <td>0</td>\n      <td>0</td>\n      <td>0</td>\n      <td>0.4939</td>\n      <td>Neutral</td>\n    </tr>\n    <tr>\n      <th>125</th>\n      <td>2022-04-01 00:00:31.000000</td>\n      <td>⚡The Ukrainian Air Force would like to address...</td>\n      <td>[⚡, 🇺🇦, 🧵]</td>\n      <td>[⚡, ukrainian, air, force, would, like, addres...</td>\n      <td>[⚡, air, force, misinformation, media, outlets...</td>\n      <td>[address, multiple, western, sky]</td>\n      <td>[anger, fear, trust, fear, anger, anticipation...</td>\n      <td>{'force': ['anger', 'fear'], 'ally': ['trust']}</td>\n      <td>{'anger': 1.28, 'fear': 1.25, 'trust': 1.14000...</td>\n      <td>{'fear': 0.2790178571428571, 'anger': 0.285714...</td>\n      <td>...</td>\n      <td>0</td>\n      <td>1</td>\n      <td>0</td>\n      <td>0</td>\n      <td>0</td>\n      <td>0</td>\n      <td>0</td>\n      <td>0</td>\n      <td>0.4404</td>\n      <td>Neutral</td>\n    </tr>\n    <tr>\n      <th>127</th>\n      <td>2022-04-01 00:00:31.000000</td>\n      <td>❌Myth: The US and @NATO are providing #Ukraine...</td>\n      <td>[❌, ✅]</td>\n      <td>[❌, myth, :, u, providing, ukraine, needed, we...</td>\n      <td>[myth, weapons, allies, everything, involvemen...</td>\n      <td>[❌, possible, short, direct, ✅, call, fighter]</td>\n      <td>[anticipation, joy, trust, trust, anger, fear,...</td>\n      <td>{'providing': ['anticipation', 'joy', 'trust']...</td>\n      <td>{'anticipation': 2.45, 'joy': 1.19, 'trust': 4...</td>\n      <td>{'fear': 0.16363636363636364, 'anger': 0.18181...</td>\n      <td>...</td>\n      <td>0</td>\n      <td>0</td>\n      <td>0</td>\n      <td>1</td>\n      <td>0</td>\n      <td>0</td>\n      <td>0</td>\n      <td>0</td>\n      <td>0.0000</td>\n      <td>Neutral</td>\n    </tr>\n    <tr>\n      <th>128</th>\n      <td>2022-04-01 00:00:31.000000</td>\n      <td>Scramble for #gas #settodraw US$10B into #Tanz...</td>\n      <td>[]</td>\n      <td>[scramble, gas, settodraw, u, $, 10b, tanzania...</td>\n      <td>[gas, africa, energy, coal, mining]</td>\n      <td>[scramble, tanzaniaproject]</td>\n      <td>[]</td>\n      <td>{}</td>\n      <td>{}</td>\n      <td>{'fear': 0.0, 'anger': 0.0, 'anticipation': 0....</td>\n      <td>...</td>\n      <td>0</td>\n      <td>0</td>\n      <td>0</td>\n      <td>0</td>\n      <td>0</td>\n      <td>0</td>\n      <td>0</td>\n      <td>0</td>\n      <td>0.2732</td>\n      <td>Neutral</td>\n    </tr>\n  </tbody>\n</table>\n<p>100 rows × 21 columns</p>\n</div>"
     },
     "execution_count": 11,
     "metadata": {},
     "output_type": "execute_result"
    }
   ],
   "source": [
    "# test\n",
    "ed = EmotionDetector()\n",
    "res = ed.process(tweets_short)\n",
    "res.head(100)"
   ],
   "metadata": {
    "collapsed": false,
    "pycharm": {
     "name": "#%%\n"
    }
   }
  },
  {
   "cell_type": "code",
   "execution_count": 12,
   "outputs": [],
   "source": [
    "res.to_csv(\"sample.csv\")"
   ],
   "metadata": {
    "collapsed": false,
    "pycharm": {
     "name": "#%%\n"
    }
   }
  },
  {
   "cell_type": "code",
   "execution_count": 12,
   "outputs": [],
   "source": [],
   "metadata": {
    "collapsed": false,
    "pycharm": {
     "name": "#%%\n"
    }
   }
  }
 ],
 "metadata": {
  "kernelspec": {
   "display_name": "Python 3",
   "language": "python",
   "name": "python3"
  },
  "language_info": {
   "codemirror_mode": {
    "name": "ipython",
    "version": 2
   },
   "file_extension": ".py",
   "mimetype": "text/x-python",
   "name": "python",
   "nbconvert_exporter": "python",
   "pygments_lexer": "ipython2",
   "version": "2.7.6"
  }
 },
 "nbformat": 4,
 "nbformat_minor": 0
}